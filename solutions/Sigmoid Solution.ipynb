{
 "cells": [
  {
   "cell_type": "markdown",
   "metadata": {},
   "source": [
    "# Sigmoid Solution"
   ]
  },
  {
   "cell_type": "code",
   "execution_count": null,
   "metadata": {
    "collapsed": true
   },
   "outputs": [],
   "source": [
    "class Sigmoid(Node):\n",
    "    def __init__(self, x):\n",
    "        Node.__init__(self, [x])\n",
    "\n",
    "    def _sigmoid(self, x):\n",
    "        return 1.0 / (1.0 + np.exp(-x))\n",
    "\n",
    "    def forward(self):\n",
    "        self.value = self._sigmoid(self.input_nodes[0].value)\n",
    "\n",
    "    # derivative of sigmoid(x) is (1 - sigmoid(x)) * sigmoid(x)\n",
    "    def backward(self):\n",
    "        self.dvalues = {n: np.zeros_like(n.value) for n in self.input_nodes}\n",
    "        if len(self.output_nodes) == 0:\n",
    "            self.dvalues[self.input_nodes[0]] += (1 - self.value) * self.value\n",
    "            return\n",
    "        for n in self.output_nodes:\n",
    "            dval = n.dvalues[self]\n",
    "            self.dvalues[self.input_nodes[0]] += (1 - self.value) * self.value * dval"
   ]
  },
  {
   "cell_type": "markdown",
   "metadata": {},
   "source": [
    "## Forward Pass\n",
    "\n",
    "\n",
    "## Backward Pass"
   ]
  },
  {
   "cell_type": "code",
   "execution_count": null,
   "metadata": {
    "collapsed": true
   },
   "outputs": [],
   "source": []
  }
 ],
 "metadata": {
  "kernelspec": {
   "display_name": "Python 3",
   "language": "python",
   "name": "python3"
  },
  "language_info": {
   "codemirror_mode": {
    "name": "ipython",
    "version": 3
   },
   "file_extension": ".py",
   "mimetype": "text/x-python",
   "name": "python",
   "nbconvert_exporter": "python",
   "pygments_lexer": "ipython3",
   "version": "3.5.2"
  }
 },
 "nbformat": 4,
 "nbformat_minor": 1
}
