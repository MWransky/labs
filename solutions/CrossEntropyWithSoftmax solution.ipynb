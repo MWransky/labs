{
 "cells": [
  {
   "cell_type": "markdown",
   "metadata": {},
   "source": [
    "# CrossEntropyWithSoftmax Solution"
   ]
  },
  {
   "cell_type": "code",
   "execution_count": null,
   "metadata": {
    "collapsed": false
   },
   "outputs": [],
   "source": [
    "class CrossEntropyWithSoftmax(Node):\n",
    "    def __init__(self, x, y):\n",
    "        Node.__init__(self, [x,y])\n",
    "\n",
    "    def _predict(self):\n",
    "        probs = self._softmax(self.input_nodes[0].value)\n",
    "        return np.argmax(probs, axis=1)\n",
    "\n",
    "    def _accuracy(self):\n",
    "        preds = self._predict()\n",
    "        return np.mean(preds == self.input_nodes[1].value)\n",
    "    \n",
    "    def _softmax(self, x):\n",
    "        exp_x = np.exp(x)\n",
    "        probs = exp_x / np.sum(exp_x, axis=1, keepdims=True)\n",
    "        return probs\n",
    "\n",
    "    def forward(self):\n",
    "        probs = self._softmax(self.input_nodes[0].value)\n",
    "        y = self.input_nodes[1].value\n",
    "        self.cache[0] = np.copy(probs)\n",
    "        self.cache[1] = np.copy(y)\n",
    "        n = probs.shape[0]\n",
    "        logprobs = -np.log(probs[range(n), y])\n",
    "        self.value = np.sum(logprobs) / n\n",
    "\n",
    "    # we know this is a loss so we can be a bit less generic here\n",
    "    # should have 0 output nodes\n",
    "    def backward(self):\n",
    "        assert len(self.output_nodes) == 0\n",
    "        self.dvalues = {n: np.zeros_like(n.value) for n in self.input_nodes}\n",
    "        # combined derivative of softmax and cross entropy\n",
    "        dprobs = self.cache[0]\n",
    "        y = self.cache[1]\n",
    "        n = dprobs.shape[0]\n",
    "        dprobs[range(n), y] -= 1\n",
    "        dprobs /= n\n",
    "        # leave the gradient for the 2nd node all 0s, we don't care about the gradient\n",
    "        # for the labels\n",
    "        self.dvalues[self.input_nodes[0]] = dprobs"
   ]
  },
  {
   "cell_type": "markdown",
   "metadata": {},
   "source": [
    "## Forward Pass\n",
    "\n",
    "\n",
    "## Backward Pass"
   ]
  },
  {
   "cell_type": "code",
   "execution_count": null,
   "metadata": {
    "collapsed": true
   },
   "outputs": [],
   "source": []
  }
 ],
 "metadata": {
  "kernelspec": {
   "display_name": "Python 3",
   "language": "python",
   "name": "python3"
  },
  "language_info": {
   "codemirror_mode": {
    "name": "ipython",
    "version": 3
   },
   "file_extension": ".py",
   "mimetype": "text/x-python",
   "name": "python",
   "nbconvert_exporter": "python",
   "pygments_lexer": "ipython3",
   "version": "3.5.2"
  }
 },
 "nbformat": 4,
 "nbformat_minor": 1
}
