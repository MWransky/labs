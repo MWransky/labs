{
 "cells": [
  {
   "cell_type": "markdown",
   "metadata": {},
   "source": [
    "# Linear Solution"
   ]
  },
  {
   "cell_type": "code",
   "execution_count": null,
   "metadata": {
    "collapsed": true
   },
   "outputs": [],
   "source": [
    "class Linear(Node):\n",
    "    def __init__(self, x, w, b):\n",
    "        Node.__init__(self, [x, w, b])\n",
    "\n",
    "    def forward(self):\n",
    "        self.cache[0] = np.copy(self.input_nodes[0].value)\n",
    "        self.cache[1] = np.copy(self.input_nodes[1].value)\n",
    "        self.cache[2] = np.copy(self.input_nodes[2].value)\n",
    "        self.value = np.dot(self.cache[0], self.cache[1]) + self.cache[2]\n",
    "\n",
    "    def backward(self):\n",
    "        self.dvalues = {n: np.zeros_like(n.value) for n in self.input_nodes}\n",
    "        if len(self.output_nodes) == 0:\n",
    "            self.dvalues[self.input_nodes[0]] += np.dot(np.ones_like(self.value), self.cache[1].T)\n",
    "            self.dvalues[self.input_nodes[1]] += np.dot(self.cache[0].T, np.ones_like(self.value))\n",
    "            self.dvalues[self.input_nodes[2]] += self.value.shape[0] # equivalent to summing this amount of 1s\n",
    "            return\n",
    "        for n in self.output_nodes:\n",
    "            dval = n.dvalues[self]\n",
    "            self.dvalues[self.input_nodes[0]] += np.dot(dval, self.cache[1].T)\n",
    "            self.dvalues[self.input_nodes[1]] += np.dot(self.cache[0].T, dval)\n",
    "            self.dvalues[self.input_nodes[2]] += np.sum(dval, axis=0, keepdims=True)"
   ]
  },
  {
   "cell_type": "markdown",
   "metadata": {},
   "source": [
    "## Forward Pass\n",
    "\n",
    "For the forward pass we compute\n",
    "\n",
    "$$\n",
    "XW + b\n",
    "$$\n",
    "\n",
    "and store the values in the cache.\n",
    "\n",
    "## Backward Pass\n",
    "\n",
    "Note the different initialization here, `np.zeros_like` creates an array the same shape as the input filled with 0s.\n",
    "\n",
    "```\n",
    "self.dvalues = {n: np.zeros_like(n.value) for n in self.input_nodes}\n",
    "```\n",
    "\n",
    "TODO: "
   ]
  },
  {
   "cell_type": "code",
   "execution_count": null,
   "metadata": {
    "collapsed": true
   },
   "outputs": [],
   "source": []
  }
 ],
 "metadata": {
  "kernelspec": {
   "display_name": "Python 3",
   "language": "python",
   "name": "python3"
  },
  "language_info": {
   "codemirror_mode": {
    "name": "ipython",
    "version": 3
   },
   "file_extension": ".py",
   "mimetype": "text/x-python",
   "name": "python",
   "nbconvert_exporter": "python",
   "pygments_lexer": "ipython3",
   "version": "3.5.2"
  }
 },
 "nbformat": 4,
 "nbformat_minor": 1
}
